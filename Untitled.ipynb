{
 "cells": [
  {
   "cell_type": "code",
   "execution_count": 1,
   "id": "0e1ed59a-936b-4958-b618-38cec167e838",
   "metadata": {},
   "outputs": [],
   "source": [
    "import pandas as pd "
   ]
  },
  {
   "cell_type": "code",
   "execution_count": 3,
   "id": "0e1c087e-c0e6-4563-88b5-cd2796d5b155",
   "metadata": {},
   "outputs": [],
   "source": [
    "df = pd.read_csv('Cars.csv')"
   ]
  },
  {
   "cell_type": "code",
   "execution_count": 5,
   "id": "4ca3aef4-cc11-4c9a-99a1-41e977a63419",
   "metadata": {},
   "outputs": [
    {
     "data": {
      "text/plain": [
       "Index(['Mileage', 'Power', 'Transmission', 'Fuel', 'Drive_type', 'Doors',\n",
       "       'Seats', 'CO2_emissions', 'Engine_capacity', 'Emission_class', 'Year',\n",
       "       'Make', 'Body', 'Interior_material', 'price'],\n",
       "      dtype='object')"
      ]
     },
     "execution_count": 5,
     "metadata": {},
     "output_type": "execute_result"
    }
   ],
   "source": [
    "df.columns"
   ]
  },
  {
   "cell_type": "code",
   "execution_count": 11,
   "id": "24056cf5-f598-42e6-b091-5949d221a99c",
   "metadata": {},
   "outputs": [
    {
     "data": {
      "text/plain": [
       "array(['SUV / offroad', 'Hatchback', 'Station Wagon', 'Sedans / saloons',\n",
       "       'MPV/VAN', 'MPV', 'Pick-up', 'Cargo VAN', 'Coupe'], dtype=object)"
      ]
     },
     "execution_count": 11,
     "metadata": {},
     "output_type": "execute_result"
    }
   ],
   "source": [
    "df['Body'].unique()"
   ]
  },
  {
   "cell_type": "code",
   "execution_count": 13,
   "id": "4eb5d3aa-2aeb-409b-b7de-3ce17df5b0b2",
   "metadata": {},
   "outputs": [
    {
     "data": {
      "text/html": [
       "<div>\n",
       "<style scoped>\n",
       "    .dataframe tbody tr th:only-of-type {\n",
       "        vertical-align: middle;\n",
       "    }\n",
       "\n",
       "    .dataframe tbody tr th {\n",
       "        vertical-align: top;\n",
       "    }\n",
       "\n",
       "    .dataframe thead th {\n",
       "        text-align: right;\n",
       "    }\n",
       "</style>\n",
       "<table border=\"1\" class=\"dataframe\">\n",
       "  <thead>\n",
       "    <tr style=\"text-align: right;\">\n",
       "      <th></th>\n",
       "      <th>Mileage</th>\n",
       "      <th>Power</th>\n",
       "      <th>Transmission</th>\n",
       "      <th>Fuel</th>\n",
       "      <th>Drive_type</th>\n",
       "      <th>Doors</th>\n",
       "      <th>Seats</th>\n",
       "      <th>CO2_emissions</th>\n",
       "      <th>Engine_capacity</th>\n",
       "      <th>Emission_class</th>\n",
       "      <th>Year</th>\n",
       "      <th>price</th>\n",
       "    </tr>\n",
       "  </thead>\n",
       "  <tbody>\n",
       "    <tr>\n",
       "      <th>count</th>\n",
       "      <td>21360.000000</td>\n",
       "      <td>21360.000000</td>\n",
       "      <td>21360.000000</td>\n",
       "      <td>21360.000000</td>\n",
       "      <td>21360.000000</td>\n",
       "      <td>21360.000000</td>\n",
       "      <td>21360.000000</td>\n",
       "      <td>21360.000000</td>\n",
       "      <td>21360.000000</td>\n",
       "      <td>21360.000000</td>\n",
       "      <td>21360.000000</td>\n",
       "      <td>2.136000e+04</td>\n",
       "    </tr>\n",
       "    <tr>\n",
       "      <th>mean</th>\n",
       "      <td>43059.659176</td>\n",
       "      <td>177.560861</td>\n",
       "      <td>0.308801</td>\n",
       "      <td>0.967228</td>\n",
       "      <td>0.241245</td>\n",
       "      <td>0.934785</td>\n",
       "      <td>4.893680</td>\n",
       "      <td>129.796161</td>\n",
       "      <td>1715.672659</td>\n",
       "      <td>1.907584</td>\n",
       "      <td>2021.534270</td>\n",
       "      <td>3.623080e+04</td>\n",
       "    </tr>\n",
       "    <tr>\n",
       "      <th>std</th>\n",
       "      <td>41300.205212</td>\n",
       "      <td>100.025867</td>\n",
       "      <td>0.462010</td>\n",
       "      <td>0.826802</td>\n",
       "      <td>0.427849</td>\n",
       "      <td>0.246911</td>\n",
       "      <td>0.669842</td>\n",
       "      <td>44.446068</td>\n",
       "      <td>623.862615</td>\n",
       "      <td>0.928089</td>\n",
       "      <td>2.387042</td>\n",
       "      <td>3.646258e+04</td>\n",
       "    </tr>\n",
       "    <tr>\n",
       "      <th>min</th>\n",
       "      <td>0.000000</td>\n",
       "      <td>8.000000</td>\n",
       "      <td>0.000000</td>\n",
       "      <td>0.000000</td>\n",
       "      <td>0.000000</td>\n",
       "      <td>0.000000</td>\n",
       "      <td>2.000000</td>\n",
       "      <td>5.000000</td>\n",
       "      <td>1.000000</td>\n",
       "      <td>0.000000</td>\n",
       "      <td>2011.000000</td>\n",
       "      <td>2.899000e+03</td>\n",
       "    </tr>\n",
       "    <tr>\n",
       "      <th>25%</th>\n",
       "      <td>8650.000000</td>\n",
       "      <td>114.000000</td>\n",
       "      <td>0.000000</td>\n",
       "      <td>0.000000</td>\n",
       "      <td>0.000000</td>\n",
       "      <td>1.000000</td>\n",
       "      <td>5.000000</td>\n",
       "      <td>109.000000</td>\n",
       "      <td>1332.000000</td>\n",
       "      <td>1.000000</td>\n",
       "      <td>2020.000000</td>\n",
       "      <td>2.054900e+04</td>\n",
       "    </tr>\n",
       "    <tr>\n",
       "      <th>50%</th>\n",
       "      <td>30502.000000</td>\n",
       "      <td>148.000000</td>\n",
       "      <td>0.000000</td>\n",
       "      <td>1.000000</td>\n",
       "      <td>0.000000</td>\n",
       "      <td>1.000000</td>\n",
       "      <td>5.000000</td>\n",
       "      <td>126.000000</td>\n",
       "      <td>1580.000000</td>\n",
       "      <td>2.000000</td>\n",
       "      <td>2022.000000</td>\n",
       "      <td>2.844900e+04</td>\n",
       "    </tr>\n",
       "    <tr>\n",
       "      <th>75%</th>\n",
       "      <td>68882.000000</td>\n",
       "      <td>201.000000</td>\n",
       "      <td>1.000000</td>\n",
       "      <td>1.000000</td>\n",
       "      <td>0.000000</td>\n",
       "      <td>1.000000</td>\n",
       "      <td>5.000000</td>\n",
       "      <td>149.000000</td>\n",
       "      <td>1984.000000</td>\n",
       "      <td>3.000000</td>\n",
       "      <td>2024.000000</td>\n",
       "      <td>4.071150e+04</td>\n",
       "    </tr>\n",
       "    <tr>\n",
       "      <th>max</th>\n",
       "      <td>175000.000000</td>\n",
       "      <td>1002.000000</td>\n",
       "      <td>1.000000</td>\n",
       "      <td>3.000000</td>\n",
       "      <td>1.000000</td>\n",
       "      <td>1.000000</td>\n",
       "      <td>7.000000</td>\n",
       "      <td>499.000000</td>\n",
       "      <td>6592.000000</td>\n",
       "      <td>3.000000</td>\n",
       "      <td>2024.000000</td>\n",
       "      <td>2.454249e+06</td>\n",
       "    </tr>\n",
       "  </tbody>\n",
       "</table>\n",
       "</div>"
      ],
      "text/plain": [
       "             Mileage         Power  Transmission          Fuel    Drive_type  \\\n",
       "count   21360.000000  21360.000000  21360.000000  21360.000000  21360.000000   \n",
       "mean    43059.659176    177.560861      0.308801      0.967228      0.241245   \n",
       "std     41300.205212    100.025867      0.462010      0.826802      0.427849   \n",
       "min         0.000000      8.000000      0.000000      0.000000      0.000000   \n",
       "25%      8650.000000    114.000000      0.000000      0.000000      0.000000   \n",
       "50%     30502.000000    148.000000      0.000000      1.000000      0.000000   \n",
       "75%     68882.000000    201.000000      1.000000      1.000000      0.000000   \n",
       "max    175000.000000   1002.000000      1.000000      3.000000      1.000000   \n",
       "\n",
       "              Doors         Seats  CO2_emissions  Engine_capacity  \\\n",
       "count  21360.000000  21360.000000   21360.000000     21360.000000   \n",
       "mean       0.934785      4.893680     129.796161      1715.672659   \n",
       "std        0.246911      0.669842      44.446068       623.862615   \n",
       "min        0.000000      2.000000       5.000000         1.000000   \n",
       "25%        1.000000      5.000000     109.000000      1332.000000   \n",
       "50%        1.000000      5.000000     126.000000      1580.000000   \n",
       "75%        1.000000      5.000000     149.000000      1984.000000   \n",
       "max        1.000000      7.000000     499.000000      6592.000000   \n",
       "\n",
       "       Emission_class          Year         price  \n",
       "count    21360.000000  21360.000000  2.136000e+04  \n",
       "mean         1.907584   2021.534270  3.623080e+04  \n",
       "std          0.928089      2.387042  3.646258e+04  \n",
       "min          0.000000   2011.000000  2.899000e+03  \n",
       "25%          1.000000   2020.000000  2.054900e+04  \n",
       "50%          2.000000   2022.000000  2.844900e+04  \n",
       "75%          3.000000   2024.000000  4.071150e+04  \n",
       "max          3.000000   2024.000000  2.454249e+06  "
      ]
     },
     "execution_count": 13,
     "metadata": {},
     "output_type": "execute_result"
    }
   ],
   "source": [
    "df.describe()"
   ]
  },
  {
   "cell_type": "code",
   "execution_count": null,
   "id": "893d773a-10c5-4d17-96b5-2d4dfbfcbe71",
   "metadata": {},
   "outputs": [],
   "source": []
  }
 ],
 "metadata": {
  "kernelspec": {
   "display_name": "Python 3 (ipykernel)",
   "language": "python",
   "name": "python3"
  },
  "language_info": {
   "codemirror_mode": {
    "name": "ipython",
    "version": 3
   },
   "file_extension": ".py",
   "mimetype": "text/x-python",
   "name": "python",
   "nbconvert_exporter": "python",
   "pygments_lexer": "ipython3",
   "version": "3.11.5"
  }
 },
 "nbformat": 4,
 "nbformat_minor": 5
}
